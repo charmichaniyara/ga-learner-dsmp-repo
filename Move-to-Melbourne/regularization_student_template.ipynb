{
 "cells": [
  {
   "cell_type": "code",
   "execution_count": 1,
   "metadata": {},
   "outputs": [],
   "source": [
    "import numpy as np\n",
    "import pandas as pd\n",
    "import seaborn as sns\n",
    "import matplotlib.pyplot as plt\n",
    "from sklearn.model_selection import train_test_split, cross_val_score\n",
    "from sklearn.linear_model import LinearRegression, Lasso, Ridge\n",
    "from sklearn.metrics import r2_score\n",
    "from sklearn.preprocessing import PolynomialFeatures\n",
    "from sklearn.pipeline import make_pipeline\n",
    "\n",
    "import warnings\n",
    "warnings.filterwarnings('ignore')"
   ]
  },
  {
   "cell_type": "markdown",
   "metadata": {},
   "source": [
    "### Load the dataset\n",
    "\n",
    "- Load the train data and using all your knowledge of pandas try to explore the different statistical properties like correlation of the dataset."
   ]
  },
  {
   "cell_type": "code",
   "execution_count": 2,
   "metadata": {},
   "outputs": [
    {
     "data": {
      "text/html": [
       "<div>\n",
       "<style scoped>\n",
       "    .dataframe tbody tr th:only-of-type {\n",
       "        vertical-align: middle;\n",
       "    }\n",
       "\n",
       "    .dataframe tbody tr th {\n",
       "        vertical-align: top;\n",
       "    }\n",
       "\n",
       "    .dataframe thead th {\n",
       "        text-align: right;\n",
       "    }\n",
       "</style>\n",
       "<table border=\"1\" class=\"dataframe\">\n",
       "  <thead>\n",
       "    <tr style=\"text-align: right;\">\n",
       "      <th></th>\n",
       "      <th>Id</th>\n",
       "      <th>Rooms</th>\n",
       "      <th>Type</th>\n",
       "      <th>Price</th>\n",
       "      <th>Method</th>\n",
       "      <th>SellerG</th>\n",
       "      <th>Distance</th>\n",
       "      <th>Postcode</th>\n",
       "      <th>Bathroom</th>\n",
       "      <th>Car</th>\n",
       "      <th>Landsize</th>\n",
       "      <th>BuildingArea</th>\n",
       "      <th>YearBuilt</th>\n",
       "      <th>CouncilArea</th>\n",
       "      <th>Longtitude</th>\n",
       "      <th>Regionname</th>\n",
       "      <th>Propertycount</th>\n",
       "    </tr>\n",
       "  </thead>\n",
       "  <tbody>\n",
       "    <tr>\n",
       "      <th>0</th>\n",
       "      <td>124</td>\n",
       "      <td>3</td>\n",
       "      <td>2</td>\n",
       "      <td>995000</td>\n",
       "      <td>1</td>\n",
       "      <td>135</td>\n",
       "      <td>6.3</td>\n",
       "      <td>3143</td>\n",
       "      <td>2</td>\n",
       "      <td>2</td>\n",
       "      <td>0</td>\n",
       "      <td>100.0</td>\n",
       "      <td>1998</td>\n",
       "      <td>26</td>\n",
       "      <td>145.01600</td>\n",
       "      <td>5</td>\n",
       "      <td>4836</td>\n",
       "    </tr>\n",
       "    <tr>\n",
       "      <th>1</th>\n",
       "      <td>5905</td>\n",
       "      <td>2</td>\n",
       "      <td>0</td>\n",
       "      <td>1080000</td>\n",
       "      <td>1</td>\n",
       "      <td>155</td>\n",
       "      <td>2.0</td>\n",
       "      <td>3066</td>\n",
       "      <td>1</td>\n",
       "      <td>0</td>\n",
       "      <td>0</td>\n",
       "      <td>94.0</td>\n",
       "      <td>1890</td>\n",
       "      <td>31</td>\n",
       "      <td>144.98863</td>\n",
       "      <td>2</td>\n",
       "      <td>4553</td>\n",
       "    </tr>\n",
       "    <tr>\n",
       "      <th>2</th>\n",
       "      <td>5963</td>\n",
       "      <td>3</td>\n",
       "      <td>0</td>\n",
       "      <td>725000</td>\n",
       "      <td>1</td>\n",
       "      <td>196</td>\n",
       "      <td>17.9</td>\n",
       "      <td>3082</td>\n",
       "      <td>2</td>\n",
       "      <td>2</td>\n",
       "      <td>602</td>\n",
       "      <td>129.0</td>\n",
       "      <td>1980</td>\n",
       "      <td>29</td>\n",
       "      <td>145.06912</td>\n",
       "      <td>2</td>\n",
       "      <td>10529</td>\n",
       "    </tr>\n",
       "    <tr>\n",
       "      <th>3</th>\n",
       "      <td>3521</td>\n",
       "      <td>4</td>\n",
       "      <td>0</td>\n",
       "      <td>1330000</td>\n",
       "      <td>1</td>\n",
       "      <td>251</td>\n",
       "      <td>8.0</td>\n",
       "      <td>3016</td>\n",
       "      <td>3</td>\n",
       "      <td>2</td>\n",
       "      <td>217</td>\n",
       "      <td>266.0</td>\n",
       "      <td>2003</td>\n",
       "      <td>10</td>\n",
       "      <td>144.87960</td>\n",
       "      <td>6</td>\n",
       "      <td>6380</td>\n",
       "    </tr>\n",
       "    <tr>\n",
       "      <th>4</th>\n",
       "      <td>3738</td>\n",
       "      <td>3</td>\n",
       "      <td>0</td>\n",
       "      <td>620000</td>\n",
       "      <td>1</td>\n",
       "      <td>221</td>\n",
       "      <td>12.4</td>\n",
       "      <td>3060</td>\n",
       "      <td>1</td>\n",
       "      <td>2</td>\n",
       "      <td>604</td>\n",
       "      <td>190.0</td>\n",
       "      <td>1970</td>\n",
       "      <td>23</td>\n",
       "      <td>144.96860</td>\n",
       "      <td>2</td>\n",
       "      <td>5070</td>\n",
       "    </tr>\n",
       "    <tr>\n",
       "      <th>5</th>\n",
       "      <td>5949</td>\n",
       "      <td>4</td>\n",
       "      <td>1</td>\n",
       "      <td>985000</td>\n",
       "      <td>4</td>\n",
       "      <td>106</td>\n",
       "      <td>7.8</td>\n",
       "      <td>3079</td>\n",
       "      <td>3</td>\n",
       "      <td>2</td>\n",
       "      <td>181</td>\n",
       "      <td>154.0</td>\n",
       "      <td>2016</td>\n",
       "      <td>0</td>\n",
       "      <td>145.03883</td>\n",
       "      <td>0</td>\n",
       "      <td>5549</td>\n",
       "    </tr>\n",
       "    <tr>\n",
       "      <th>6</th>\n",
       "      <td>732</td>\n",
       "      <td>2</td>\n",
       "      <td>1</td>\n",
       "      <td>801000</td>\n",
       "      <td>1</td>\n",
       "      <td>106</td>\n",
       "      <td>5.2</td>\n",
       "      <td>3056</td>\n",
       "      <td>2</td>\n",
       "      <td>1</td>\n",
       "      <td>156</td>\n",
       "      <td>87.0</td>\n",
       "      <td>2007</td>\n",
       "      <td>23</td>\n",
       "      <td>144.94980</td>\n",
       "      <td>2</td>\n",
       "      <td>11918</td>\n",
       "    </tr>\n",
       "    <tr>\n",
       "      <th>7</th>\n",
       "      <td>6459</td>\n",
       "      <td>2</td>\n",
       "      <td>2</td>\n",
       "      <td>465000</td>\n",
       "      <td>3</td>\n",
       "      <td>196</td>\n",
       "      <td>12.0</td>\n",
       "      <td>3073</td>\n",
       "      <td>1</td>\n",
       "      <td>1</td>\n",
       "      <td>676</td>\n",
       "      <td>61.0</td>\n",
       "      <td>2012</td>\n",
       "      <td>-1</td>\n",
       "      <td>145.02142</td>\n",
       "      <td>2</td>\n",
       "      <td>21650</td>\n",
       "    </tr>\n",
       "    <tr>\n",
       "      <th>8</th>\n",
       "      <td>263</td>\n",
       "      <td>4</td>\n",
       "      <td>0</td>\n",
       "      <td>950000</td>\n",
       "      <td>1</td>\n",
       "      <td>150</td>\n",
       "      <td>10.5</td>\n",
       "      <td>3034</td>\n",
       "      <td>3</td>\n",
       "      <td>3</td>\n",
       "      <td>761</td>\n",
       "      <td>281.0</td>\n",
       "      <td>1970</td>\n",
       "      <td>21</td>\n",
       "      <td>144.87140</td>\n",
       "      <td>6</td>\n",
       "      <td>4502</td>\n",
       "    </tr>\n",
       "    <tr>\n",
       "      <th>9</th>\n",
       "      <td>5325</td>\n",
       "      <td>3</td>\n",
       "      <td>0</td>\n",
       "      <td>1512000</td>\n",
       "      <td>1</td>\n",
       "      <td>106</td>\n",
       "      <td>5.3</td>\n",
       "      <td>3070</td>\n",
       "      <td>1</td>\n",
       "      <td>0</td>\n",
       "      <td>326</td>\n",
       "      <td>125.0</td>\n",
       "      <td>1905</td>\n",
       "      <td>6</td>\n",
       "      <td>144.99902</td>\n",
       "      <td>2</td>\n",
       "      <td>11364</td>\n",
       "    </tr>\n",
       "  </tbody>\n",
       "</table>\n",
       "</div>"
      ],
      "text/plain": [
       "     Id  Rooms  Type    Price  Method  SellerG  Distance  Postcode  Bathroom  \\\n",
       "0   124      3     2   995000       1      135       6.3      3143         2   \n",
       "1  5905      2     0  1080000       1      155       2.0      3066         1   \n",
       "2  5963      3     0   725000       1      196      17.9      3082         2   \n",
       "3  3521      4     0  1330000       1      251       8.0      3016         3   \n",
       "4  3738      3     0   620000       1      221      12.4      3060         1   \n",
       "5  5949      4     1   985000       4      106       7.8      3079         3   \n",
       "6   732      2     1   801000       1      106       5.2      3056         2   \n",
       "7  6459      2     2   465000       3      196      12.0      3073         1   \n",
       "8   263      4     0   950000       1      150      10.5      3034         3   \n",
       "9  5325      3     0  1512000       1      106       5.3      3070         1   \n",
       "\n",
       "   Car  Landsize  BuildingArea  YearBuilt  CouncilArea  Longtitude  \\\n",
       "0    2         0         100.0       1998           26   145.01600   \n",
       "1    0         0          94.0       1890           31   144.98863   \n",
       "2    2       602         129.0       1980           29   145.06912   \n",
       "3    2       217         266.0       2003           10   144.87960   \n",
       "4    2       604         190.0       1970           23   144.96860   \n",
       "5    2       181         154.0       2016            0   145.03883   \n",
       "6    1       156          87.0       2007           23   144.94980   \n",
       "7    1       676          61.0       2012           -1   145.02142   \n",
       "8    3       761         281.0       1970           21   144.87140   \n",
       "9    0       326         125.0       1905            6   144.99902   \n",
       "\n",
       "   Regionname  Propertycount  \n",
       "0           5           4836  \n",
       "1           2           4553  \n",
       "2           2          10529  \n",
       "3           6           6380  \n",
       "4           2           5070  \n",
       "5           0           5549  \n",
       "6           2          11918  \n",
       "7           2          21650  \n",
       "8           6           4502  \n",
       "9           2          11364  "
      ]
     },
     "execution_count": 2,
     "metadata": {},
     "output_type": "execute_result"
    }
   ],
   "source": [
    "# Code starts here\n",
    "\n",
    "train = pd.read_csv('E:/GreyAtom/glab proj/Move_to_Melbourne/train.csv')\n",
    "train.head(10)\n"
   ]
  },
  {
   "cell_type": "code",
   "execution_count": 3,
   "metadata": {},
   "outputs": [
    {
     "name": "stdout",
     "output_type": "stream",
     "text": [
      "shape of train data is :  (4781, 17)\n"
     ]
    }
   ],
   "source": [
    "print(\"shape of train data is : \", train.shape)"
   ]
  },
  {
   "cell_type": "code",
   "execution_count": 4,
   "metadata": {},
   "outputs": [
    {
     "name": "stdout",
     "output_type": "stream",
     "text": [
      "statistical properties of train data is : \n",
      "                Id        Rooms         Type         Price       Method  \\\n",
      "count  4781.000000  4781.000000  4781.000000  4.781000e+03  4781.000000   \n",
      "mean   3432.481908     2.964861     0.540473  1.080936e+06     1.441330   \n",
      "std    1953.488159     0.957911     0.837337  6.757098e+05     1.141898   \n",
      "min       0.000000     1.000000     0.000000  1.450000e+05     0.000000   \n",
      "25%    1757.000000     2.000000     0.000000  6.300000e+05     1.000000   \n",
      "50%    3434.000000     3.000000     0.000000  9.000000e+05     1.000000   \n",
      "75%    5126.000000     4.000000     1.000000  1.337000e+06     1.000000   \n",
      "max    6829.000000     8.000000     2.000000  9.000000e+06     4.000000   \n",
      "\n",
      "           SellerG     Distance     Postcode     Bathroom          Car  \\\n",
      "count  4781.000000  4781.000000  4781.000000  4781.000000  4781.000000   \n",
      "mean    131.485254    10.045367  3103.308931     1.587952     1.605522   \n",
      "std      77.203630     5.871496    87.538064     0.711276     0.946698   \n",
      "min       2.000000     0.000000  3000.000000     1.000000     0.000000   \n",
      "25%      73.000000     6.100000  3044.000000     1.000000     1.000000   \n",
      "50%     135.000000     9.200000  3083.000000     1.000000     2.000000   \n",
      "75%     194.000000    13.000000  3147.000000     2.000000     2.000000   \n",
      "max     267.000000    47.300000  3977.000000     8.000000    10.000000   \n",
      "\n",
      "           Landsize  BuildingArea    YearBuilt  CouncilArea   Longtitude  \\\n",
      "count   4781.000000   4781.000000  4781.000000  4781.000000  4781.000000   \n",
      "mean     480.500105    143.157231  1964.338423    13.609705   144.991934   \n",
      "std      899.489722     91.438501    38.064151    10.389644     0.103051   \n",
      "min        0.000000      0.000000  1196.000000    -1.000000   144.545320   \n",
      "25%      168.000000     94.000000  1940.000000     2.000000   144.927270   \n",
      "50%      411.000000    126.000000  1970.000000    15.000000   144.997500   \n",
      "75%      638.000000    172.000000  2000.000000    23.000000   145.055720   \n",
      "max    37000.000000   3112.000000  2018.000000    32.000000   145.445300   \n",
      "\n",
      "        Regionname  Propertycount  \n",
      "count  4781.000000    4781.000000  \n",
      "mean      3.772223    7477.201213  \n",
      "std       2.024068    4395.746550  \n",
      "min       0.000000     389.000000  \n",
      "25%       2.000000    4380.000000  \n",
      "50%       5.000000    6567.000000  \n",
      "75%       5.000000   10331.000000  \n",
      "max       7.000000   21650.000000  \n"
     ]
    }
   ],
   "source": [
    "print(\"statistical properties of train data is : \")\n",
    "print(train.describe())"
   ]
  },
  {
   "cell_type": "code",
   "execution_count": 6,
   "metadata": {},
   "outputs": [],
   "source": [
    "#Drop ID\n",
    "train.drop(\"Id\", axis=1, inplace=True)"
   ]
  },
  {
   "cell_type": "code",
   "execution_count": 9,
   "metadata": {},
   "outputs": [
    {
     "data": {
      "image/png": "[encoded data removed]",
      "text/plain": [
       "<Figure size 432x288 with 1 Axes>"
      ]
     },
     "metadata": {
      "needs_background": "light"
     },
     "output_type": "display_data"
    }
   ],
   "source": [
    "#Checking distribution of target\n",
    "train['Price'].value_counts().plot(kind='bar')\n",
    "plt.title('Class distribution of target')\n",
    "plt.xlabel('Price')\n",
    "plt.ylabel('distribution')\n",
    "plt.show()"
   ]
  },
  {
   "cell_type": "code",
   "execution_count": 11,
   "metadata": {},
   "outputs": [
    {
     "name": "stdout",
     "output_type": "stream",
     "text": [
      "skewness of different features : \n",
      "Rooms             0.208722\n",
      "Type              1.029247\n",
      "Price             2.429553\n",
      "Method            1.071776\n",
      "SellerG           0.129703\n",
      "Distance          1.674962\n",
      "Postcode          3.921342\n",
      "Bathroom          1.328302\n",
      "Car               1.532654\n",
      "Landsize         21.066059\n",
      "BuildingArea      8.885376\n",
      "YearBuilt        -2.135044\n",
      "CouncilArea       0.033060\n",
      "Longtitude       -0.270886\n",
      "Regionname       -0.498197\n",
      "Propertycount     1.039731\n",
      "dtype: float64\n"
     ]
    }
   ],
   "source": [
    "#Checking for skewness\n",
    "print(\"skewness of different features : \")\n",
    "print(train.skew())"
   ]
  },
  {
   "cell_type": "code",
   "execution_count": 12,
   "metadata": {},
   "outputs": [
    {
     "name": "stdout",
     "output_type": "stream",
     "text": [
      "                  Rooms      Type     Price    Method   SellerG  Distance  \\\n",
      "Rooms          1.000000 -0.590817  0.523579 -0.053525 -0.029506  0.289699   \n",
      "Type          -0.590817  1.000000 -0.426876  0.088308  0.026955 -0.242188   \n",
      "Price          0.523579 -0.426876  1.000000 -0.048165 -0.065393 -0.158197   \n",
      "Method        -0.053525  0.088308 -0.048165  1.000000 -0.008889 -0.064479   \n",
      "SellerG       -0.029506  0.026955 -0.065393 -0.008889  1.000000  0.024476   \n",
      "Distance       0.289699 -0.242188 -0.158197 -0.064479  0.024476  1.000000   \n",
      "Postcode       0.050753  0.018737  0.120166 -0.034679 -0.001913  0.414110   \n",
      "Bathroom       0.607276 -0.276890  0.493173 -0.013801 -0.034939  0.114934   \n",
      "Car            0.420030 -0.278868  0.237160 -0.019285 -0.000271  0.257264   \n",
      "Landsize       0.092030 -0.043433  0.072753 -0.021601 -0.028470  0.063563   \n",
      "BuildingArea   0.595395 -0.386768  0.519207 -0.048287 -0.042596  0.145823   \n",
      "YearBuilt     -0.056373  0.304479 -0.297060  0.021274 -0.000680  0.252163   \n",
      "CouncilArea   -0.207234  0.159736 -0.119382  0.018771 -0.002784 -0.280674   \n",
      "Longtitude     0.095944  0.000434  0.217738 -0.059914 -0.061029  0.210853   \n",
      "Regionname    -0.009092  0.055988  0.083803  0.033184  0.023397 -0.089077   \n",
      "Propertycount -0.106854  0.111803 -0.052399 -0.024244  0.063498 -0.063805   \n",
      "\n",
      "               Postcode  Bathroom       Car  Landsize  BuildingArea  \\\n",
      "Rooms          0.050753  0.607276  0.420030  0.092030      0.595395   \n",
      "Type           0.018737 -0.276890 -0.278868 -0.043433     -0.386768   \n",
      "Price          0.120166  0.493173  0.237160  0.072753      0.519207   \n",
      "Method        -0.034679 -0.013801 -0.019285 -0.021601     -0.048287   \n",
      "SellerG       -0.001913 -0.034939 -0.000271 -0.028470     -0.042596   \n",
      "Distance       0.414110  0.114934  0.257264  0.063563      0.145823   \n",
      "Postcode       1.000000  0.088003  0.024650  0.030973      0.062701   \n",
      "Bathroom       0.088003  1.000000  0.325872  0.080768      0.525465   \n",
      "Car            0.024650  0.325872  1.000000  0.112280      0.318675   \n",
      "Landsize       0.030973  0.080768  0.112280  1.000000      0.081878   \n",
      "BuildingArea   0.062701  0.525465  0.318675  0.081878      1.000000   \n",
      "YearBuilt      0.027168  0.162484  0.108676  0.032836      0.014778   \n",
      "CouncilArea   -0.059066 -0.102732 -0.164842 -0.049492     -0.165966   \n",
      "Longtitude     0.423931  0.109001  0.048052  0.039890      0.105596   \n",
      "Regionname     0.006935  0.037968  0.005941 -0.012608      0.033615   \n",
      "Propertycount  0.058458 -0.058078 -0.032157 -0.019397     -0.071308   \n",
      "\n",
      "               YearBuilt  CouncilArea  Longtitude  Regionname  Propertycount  \n",
      "Rooms          -0.056373    -0.207234    0.095944   -0.009092      -0.106854  \n",
      "Type            0.304479     0.159736    0.000434    0.055988       0.111803  \n",
      "Price          -0.297060    -0.119382    0.217738    0.083803      -0.052399  \n",
      "Method          0.021274     0.018771   -0.059914    0.033184      -0.024244  \n",
      "SellerG        -0.000680    -0.002784   -0.061029    0.023397       0.063498  \n",
      "Distance        0.252163    -0.280674    0.210853   -0.089077      -0.063805  \n",
      "Postcode        0.027168    -0.059066    0.423931    0.006935       0.058458  \n",
      "Bathroom        0.162484    -0.102732    0.109001    0.037968      -0.058078  \n",
      "Car             0.108676    -0.164842    0.048052    0.005941      -0.032157  \n",
      "Landsize        0.032836    -0.049492    0.039890   -0.012608      -0.019397  \n",
      "BuildingArea    0.014778    -0.165966    0.105596    0.033615      -0.071308  \n",
      "YearBuilt       1.000000    -0.065787   -0.009848   -0.014789       0.015524  \n",
      "CouncilArea    -0.065787     1.000000   -0.159771   -0.046359       0.017378  \n",
      "Longtitude     -0.009848    -0.159771    1.000000   -0.480664       0.045455  \n",
      "Regionname     -0.014789    -0.046359   -0.480664    1.000000      -0.141699  \n",
      "Propertycount   0.015524     0.017378    0.045455   -0.141699       1.000000  \n"
     ]
    }
   ],
   "source": [
    "#EDA and Data Preprocessing\n",
    "#Check correlation\n",
    "corr = train.corr()\n",
    "print(corr)"
   ]
  },
  {
   "cell_type": "markdown",
   "metadata": {},
   "source": [
    "## Model building\n",
    "\n",
    "- Separate the features and target and then split the train data into train and validation set.\n",
    "- Apply different models of your choice and  then predict on the validation data and find the `accuracy_score` for this prediction.\n",
    "- Try improving upon the `accuracy_score` using different regularization techniques."
   ]
  },
  {
   "cell_type": "code",
   "execution_count": 25,
   "metadata": {},
   "outputs": [
    {
     "name": "stdout",
     "output_type": "stream",
     "text": [
      "[1593599.04230931 1451114.92449009  680518.0049361  ... 1524151.49561468\n",
      " 1329688.67835453  861311.36999336]\n"
     ]
    }
   ],
   "source": [
    "# Code starts here\n",
    "\n",
    "X = train.drop('Price', axis=1)\n",
    "y = train['Price']\n",
    "\n",
    "X_train, X_val, y_train, y_val =  train_test_split(X,y,test_size=0.3,random_state=8)\n",
    "\n",
    "regressor = LinearRegression()\n",
    "\n",
    "regressor.fit(X_train,y_train)\n",
    "\n",
    "y_pred = regressor.predict(X_val)\n",
    "print(y_pred)\n"
   ]
  },
  {
   "cell_type": "code",
   "execution_count": 26,
   "metadata": {},
   "outputs": [
    {
     "name": "stdout",
     "output_type": "stream",
     "text": [
      "r2 :  0.6709784755252343\n"
     ]
    }
   ],
   "source": [
    "#calculate r2 score\n",
    "r2 = r2_score(y_val, y_pred)\n",
    "print(\"r2 : \",r2)"
   ]
  },
  {
   "cell_type": "code",
   "execution_count": 27,
   "metadata": {},
   "outputs": [
    {
     "name": "stdout",
     "output_type": "stream",
     "text": [
      "[1593562.4411152  1451115.36747584  680529.6090802  ... 1524152.61880603\n",
      " 1329699.67722631  861308.06182039]\n"
     ]
    }
   ],
   "source": [
    "#Predict the price using Lasso regressor\n",
    "lasso = Lasso()\n",
    "\n",
    "lasso.fit(X_train,y_train)\n",
    "lasso_pred = lasso.predict(X_val)\n",
    "print(lasso_pred)"
   ]
  },
  {
   "cell_type": "code",
   "execution_count": 28,
   "metadata": {},
   "outputs": [
    {
     "name": "stdout",
     "output_type": "stream",
     "text": [
      "r2_lasso :  0.6709781414170166\n"
     ]
    }
   ],
   "source": [
    "#Calculate r2_score of Lasso model\n",
    "r2_lasso = r2_score(y_val,lasso_pred)\n",
    "print(\"r2_lasso : \", r2_lasso)"
   ]
  },
  {
   "cell_type": "code",
   "execution_count": 29,
   "metadata": {},
   "outputs": [
    {
     "name": "stdout",
     "output_type": "stream",
     "text": [
      "[1580151.84541091 1451622.35484836  685700.86908823 ... 1526082.20261925\n",
      " 1333322.7696501   860076.26871979]\n"
     ]
    }
   ],
   "source": [
    "#Predict the price using Ridge regressor\n",
    "ridge = Ridge()\n",
    "\n",
    "ridge.fit(X_train,y_train)\n",
    "ridge_pred = ridge.predict(X_val)\n",
    "print(ridge_pred)"
   ]
  },
  {
   "cell_type": "code",
   "execution_count": 30,
   "metadata": {},
   "outputs": [
    {
     "name": "stdout",
     "output_type": "stream",
     "text": [
      "r2_ridge :  0.6707652090660217\n"
     ]
    }
   ],
   "source": [
    "#Calculate r2_score of ridge model\n",
    "r2_ridge = r2_score(y_val,ridge_pred)\n",
    "print(\"r2_ridge : \", r2_ridge)"
   ]
  },
  {
   "cell_type": "code",
   "execution_count": 31,
   "metadata": {},
   "outputs": [
    {
     "name": "stdout",
     "output_type": "stream",
     "text": [
      "[0.57769766 0.69786557 0.68962943 0.21091495 0.54907255 0.63559724\n",
      " 0.45884698 0.65518455 0.61303293 0.58507978]\n"
     ]
    }
   ],
   "source": [
    "#predict price using cross-validated estimators\n",
    "\n",
    "regressor = LinearRegression()\n",
    "\n",
    "score = cross_val_score(regressor, X_train, y_train, scoring='r2', cv=10)\n",
    "print(score)"
   ]
  },
  {
   "cell_type": "code",
   "execution_count": 32,
   "metadata": {},
   "outputs": [
    {
     "name": "stdout",
     "output_type": "stream",
     "text": [
      "0.56729216383213\n"
     ]
    }
   ],
   "source": [
    "#calculate mean of score\n",
    "mean_score = np.mean(score)\n",
    "print(mean_score)"
   ]
  },
  {
   "cell_type": "code",
   "execution_count": 33,
   "metadata": {},
   "outputs": [
    {
     "name": "stdout",
     "output_type": "stream",
     "text": [
      "[2035648.77809143 1806795.85928345  752167.73805237 ... 1341511.90939331\n",
      " 1173605.11077881  838004.16387939]\n"
     ]
    }
   ],
   "source": [
    "#prediction using polynomial regressor\n",
    "model = make_pipeline(PolynomialFeatures(2), LinearRegression())\n",
    "model.fit(X_train, y_train)\n",
    "\n",
    "y_pred_poly = model.predict(X_val)\n",
    "print(y_pred_poly)"
   ]
  },
  {
   "cell_type": "code",
   "execution_count": 34,
   "metadata": {},
   "outputs": [
    {
     "name": "stdout",
     "output_type": "stream",
     "text": [
      "0.7272584926853903\n"
     ]
    }
   ],
   "source": [
    "#calculate r2 score\n",
    "r2_poly = r2_score(y_val, y_pred_poly)\n",
    "print(r2_poly)"
   ]
  },
  {
   "cell_type": "markdown",
   "metadata": {},
   "source": [
    "### Prediction on the test data and creating the sample submission file.\n",
    "\n",
    "- Load the test data and store the `Id` column in a separate variable.\n",
    "- Perform the same operations on the test data that you have performed on the train data.\n",
    "- Create the submission file as a `csv` file consisting of the `Id` column from the test data and your prediction as the second column."
   ]
  },
  {
   "cell_type": "code",
   "execution_count": 36,
   "metadata": {},
   "outputs": [],
   "source": [
    "# Code starts here\n",
    "\n",
    "test = pd.read_csv('E:/GreyAtom/glab proj/Move_to_Melbourne/test.csv')\n",
    "\n",
    "id_ = test['Id']\n",
    "\n",
    "test.drop('Id',axis=1, inplace=True)\n",
    "\n",
    "y_pred_test = model.predict(test)\n",
    "\n",
    "final_submission = pd.DataFrame({'Id':id_,'Price':y_pred_test})\n",
    "\n",
    "final_submission.to_csv('final_submission.csv', index=False)\n",
    "\n",
    "# Code ends here."
   ]
  }
 ],
 "metadata": {
  "kernelspec": {
   "display_name": "Python 3",
   "language": "python",
   "name": "python3"
  },
  "language_info": {
   "codemirror_mode": {
    "name": "ipython",
    "version": 3
   },
   "file_extension": ".py",
   "mimetype": "text/x-python",
   "name": "python",
   "nbconvert_exporter": "python",
   "pygments_lexer": "ipython3",
   "version": "3.8.3"
  }
 },
 "nbformat": 4,
 "nbformat_minor": 2
}
